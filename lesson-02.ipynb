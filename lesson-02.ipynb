{
 "cells": [
  {
   "cell_type": "markdown",
   "metadata": {},
   "source": [
    "## Lesson 02\n",
    "### Feature Scaling. Regularization. Stochastic Gradient Descent."
   ]
  },
  {
   "cell_type": "code",
   "execution_count": 1,
   "metadata": {
    "colab": {},
    "colab_type": "code",
    "id": "ak8b3KV45kVW"
   },
   "outputs": [],
   "source": [
    "import numpy as np\n",
    "import matplotlib.pyplot as plt"
   ]
  },
  {
   "cell_type": "code",
   "execution_count": 2,
   "metadata": {
    "colab": {},
    "colab_type": "code",
    "id": "kGLyytFgHdco"
   },
   "outputs": [
    {
     "data": {
      "text/plain": [
       "array([[   1,    1,    1,    1,    1,    1,    1,    1,    1,    1],\n",
       "       [   1,    1,    2,    1,    3,    0,    5,   10,    1,    2],\n",
       "       [ 500,  700,  750,  600, 1450,  800, 1500, 2000,  450, 1000],\n",
       "       [   1,    1,    2,    1,    2,    1,    3,    3,    1,    2]])"
      ]
     },
     "execution_count": 2,
     "metadata": {},
     "output_type": "execute_result"
    }
   ],
   "source": [
    "# X[0] - intercept (ones)\n",
    "# X[1] - experience, years\n",
    "# X[2] - cost per lesson\n",
    "# X[3] - qualification rate\n",
    "X = np.array([[1, 1, 1, 1, 1, 1, 1, 1, 1, 1],\n",
    "              [1, 1, 2, 1, 3, 0, 5, 10, 1, 2],\n",
    "              [500, 700, 750, 600, 1450, 800, 1500, 2000, 450, 1000],\n",
    "              [1, 1, 2, 1, 2, 1, 3, 3, 1, 2]])\n",
    "X"
   ]
  },
  {
   "cell_type": "code",
   "execution_count": 3,
   "metadata": {},
   "outputs": [
    {
     "data": {
      "text/plain": [
       "[45, 55, 50, 59, 65, 35, 75, 80, 50, 60]"
      ]
     },
     "execution_count": 3,
     "metadata": {},
     "output_type": "execute_result"
    }
   ],
   "source": [
    "# Scores (target)\n",
    "y = [45, 55, 50, 59, 65, 35, 75, 80, 50, 60]\n",
    "y"
   ]
  },
  {
   "cell_type": "markdown",
   "metadata": {},
   "source": [
    "#### Standardization (Z-score Normalization)"
   ]
  },
  {
   "cell_type": "code",
   "execution_count": 4,
   "metadata": {},
   "outputs": [],
   "source": [
    "def calc_std_feat(x):\n",
    "  res = (x - x.mean()) / x.std()\n",
    "  return res"
   ]
  },
  {
   "cell_type": "code",
   "execution_count": 5,
   "metadata": {},
   "outputs": [
    {
     "data": {
      "text/plain": [
       "array([[ 1.        ,  1.        ,  1.        ,  1.        ,  1.        ,\n",
       "         1.        ,  1.        ,  1.        ,  1.        ,  1.        ],\n",
       "       [-0.57142857, -0.57142857, -0.21428571, -0.57142857,  0.14285714,\n",
       "        -0.92857143,  0.85714286,  2.64285714, -0.57142857, -0.21428571],\n",
       "       [-0.97958969, -0.56713087, -0.46401617, -0.77336028,  0.97958969,\n",
       "        -0.36090146,  1.08270439,  2.11385144, -1.08270439,  0.05155735],\n",
       "       [-0.89625816, -0.89625816,  0.38411064, -0.89625816,  0.38411064,\n",
       "        -0.89625816,  1.66447944,  1.66447944, -0.89625816,  0.38411064]])"
      ]
     },
     "execution_count": 5,
     "metadata": {},
     "output_type": "execute_result"
    }
   ],
   "source": [
    "# Create array for standardized features\n",
    "X_std = X.copy().astype(np.float64)\n",
    "\n",
    "X_std[1] = calc_std_feat(X[1]) # standardize experience\n",
    "X_std[2] = calc_std_feat(X[2]) # standardize cost per lesson\n",
    "X_std[3] = calc_std_feat(X[3]) # qualification rate\n",
    "\n",
    "X_std"
   ]
  },
  {
   "cell_type": "code",
   "execution_count": 6,
   "metadata": {},
   "outputs": [],
   "source": [
    "# MSE (Mean Squared Error)\n",
    "def calc_mse(y, y_pred):\n",
    "  err = np.mean((y - y_pred)**2)\n",
    "  return err"
   ]
  },
  {
   "cell_type": "code",
   "execution_count": 7,
   "metadata": {},
   "outputs": [],
   "source": [
    "# GD (Gradient Descent)\n",
    "def eval_model(X, y, iterations, alpha=1e-4):\n",
    "  W = np.random.randn(X.shape[0])\n",
    "  n = X.shape[1]\n",
    "  for i in range(1, iterations+1):\n",
    "    y_pred = np.dot(W, X)\n",
    "    err = calc_mse(y, y_pred)\n",
    "    W -= (alpha * (1/n * 2 * np.dot((y_pred - y), X.T)))\n",
    "    if i % (iterations / 10) == 0:\n",
    "      print(i, W, err)\n",
    "  return W"
   ]
  },
  {
   "cell_type": "code",
   "execution_count": 8,
   "metadata": {},
   "outputs": [
    {
     "name": "stdout",
     "output_type": "stream",
     "text": [
      "100 [49.79566316  3.70089015  4.44622609  3.43189893] 101.41437458495663\n",
      "200 [56.39151623  4.15350521  3.96866958  3.51251281] 41.8193591538477\n",
      "300 [57.26625533  4.50803245  3.55446984  3.57749191] 40.47579587947201\n",
      "400 [57.38226284  4.79671368  3.20738332  3.64024009] 40.248568713129444\n",
      "500 [57.39764771  5.0322595   2.91667075  3.69907067] 40.10397842772224\n",
      "600 [57.39968804  5.22479399  2.67324821  3.75304667] 40.004177979983325\n",
      "700 [57.39995863  5.3824363   2.46947736  3.80177528] 39.93504608789847\n",
      "800 [57.39999451  5.51171401  2.29894005  3.84522228] 39.887098035916374\n",
      "900 [57.39999927  5.61788775  2.15624683  3.88358057] 39.853809470134834\n",
      "1000 [57.3999999   5.70520709  2.03687459  3.91717819] 39.83067958006658\n"
     ]
    },
    {
     "data": {
      "text/plain": [
       "array([57.3999999 ,  5.70520709,  2.03687459,  3.91717819])"
      ]
     },
     "execution_count": 8,
     "metadata": {},
     "output_type": "execute_result"
    }
   ],
   "source": [
    "# Using GD (not SGD) because the dataset contains few values. For larger datasets, SGD would be more preferable for performance reasons.\n",
    "eval_model(X_std, y, iterations=1000, alpha=1e-2)"
   ]
  },
  {
   "cell_type": "markdown",
   "metadata": {},
   "source": [
    "#### L2 Regularization (Ridge)"
   ]
  },
  {
   "cell_type": "code",
   "execution_count": 9,
   "metadata": {},
   "outputs": [],
   "source": [
    "def eval_model_reg2(X, y, iterations, alpha=1e-4, lambda_=1e-8):\n",
    "  np.random.seed(42)\n",
    "  W = np.random.randn(X.shape[0])\n",
    "  n = X.shape[1]\n",
    "  for i in range(1, iterations+1):\n",
    "    y_pred = np.dot(W, X)\n",
    "    err = calc_mse(y, y_pred)\n",
    "    W -= alpha * (1/n * 2 * np.dot((y_pred - y), X.T) + lambda_ * W) \n",
    "    # if i % (iterations / 10) == 0:\n",
    "      # print(i, W, err)\n",
    "  return W"
   ]
  },
  {
   "cell_type": "code",
   "execution_count": 10,
   "metadata": {},
   "outputs": [
    {
     "data": {
      "text/plain": [
       "array([57.39713014,  6.12102515,  1.4301203 ,  4.11587451])"
      ]
     },
     "execution_count": 10,
     "metadata": {},
     "output_type": "execute_result"
    }
   ],
   "source": [
    "eval_model_reg2(X_std, y, iterations=5000, alpha=1e-2, lambda_=1e-4)"
   ]
  },
  {
   "cell_type": "code",
   "execution_count": 11,
   "metadata": {},
   "outputs": [
    {
     "name": "stdout",
     "output_type": "stream",
     "text": [
      "[1, 0.1, 0.01, 0.001, 0.0001, 1e-05, 1e-06, 1e-07, 1e-08, 1e-09]\n",
      "[38.26666666666655, 54.66666666666651, 57.11442786069635, 57.37131434282842, 57.39713014349266, 57.399713001434826, 57.39997130001418, 57.399997129999974, 57.399999712999836, 57.399999971299835]\n",
      "[3.665574783943579, 5.311890097265679, 6.008844204727822, 6.110388032520562, 6.121025153175969, 6.122093942410694, 6.1222008723686026, 6.122211565875002, 6.122212635230745, 6.122212742166377]\n",
      "[2.943526084482351, 2.2566081343460462, 1.5543044302319955, 1.4420044258394935, 1.4301203034518344, 1.4289249895103318, 1.4288053887192445, 1.4287934279457848, 1.4287922318614956, 1.4287921122529978]\n",
      "[3.252190368053493, 3.8810919116787685, 4.081447926093954, 4.112578251838318, 4.115874512202113, 4.1162060859948495, 4.116239262973894, 4.116242580867917, 4.116242912659286, 4.116242945838436]\n"
     ]
    }
   ],
   "source": [
    "array_lambdas = []\n",
    "array_x0 = []\n",
    "array_x1 = []\n",
    "array_x2 = []\n",
    "array_x3 = []\n",
    "\n",
    "for i in range(10):\n",
    "    lambda_ = 10 ** (-i)\n",
    "    weights = eval_model_reg2(X_std, y, iterations=5000, alpha=1e-2, lambda_=lambda_)    \n",
    "    array_lambdas.append(lambda_)\n",
    "    array_x0.append(weights[0])\n",
    "    array_x1.append(weights[1])\n",
    "    array_x2.append(weights[2])\n",
    "    array_x3.append(weights[3])\n",
    "\n",
    "print(array_lambdas)\n",
    "print(array_x0)\n",
    "print(array_x1)\n",
    "print(array_x2)\n",
    "print(array_x3)"
   ]
  },
  {
   "cell_type": "code",
   "execution_count": 12,
   "metadata": {},
   "outputs": [
    {
     "data": {
      "text/plain": [
       "[<matplotlib.lines.Line2D at 0x116f15ac8>]"
      ]
     },
     "execution_count": 12,
     "metadata": {},
     "output_type": "execute_result"
    },
    {
     "data": {
      "image/png": "[encoded data removed]",
      "text/plain": [
       "<Figure size 432x288 with 1 Axes>"
      ]
     },
     "metadata": {
      "needs_background": "light"
     },
     "output_type": "display_data"
    }
   ],
   "source": [
    "plt.plot(array_lambdas, array_x0, color='green')\n",
    "plt.plot(array_lambdas, array_x1, color='blue')\n",
    "plt.plot(array_lambdas, array_x2, color='brown')\n",
    "plt.plot(array_lambdas, array_x3, color='orange')"
   ]
  },
  {
   "cell_type": "code",
   "execution_count": null,
   "metadata": {},
   "outputs": [],
   "source": []
  }
 ],
 "metadata": {
  "colab": {
   "collapsed_sections": [],
   "name": "Lesson1.ipynb",
   "provenance": []
  },
  "kernelspec": {
   "display_name": "Python 3",
   "language": "python",
   "name": "python3"
  },
  "language_info": {
   "codemirror_mode": {
    "name": "ipython",
    "version": 3
   },
   "file_extension": ".py",
   "mimetype": "text/x-python",
   "name": "python",
   "nbconvert_exporter": "python",
   "pygments_lexer": "ipython3",
   "version": "3.7.3"
  }
 },
 "nbformat": 4,
 "nbformat_minor": 2
}
